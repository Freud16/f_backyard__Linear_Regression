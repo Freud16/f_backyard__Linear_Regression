{
 "cells": [
  {
   "cell_type": "markdown",
   "metadata": {},
   "source": [
    "# Lab 3: Linear Regression\n",
    "\n",
    "This exercise takes you through the fundamental linear regression model from a number of different angles. First we consider an analytic analysis and then we continue to consider how to solve the same problem using numerical methods. This lab also serves and an introduction to the tensorflow toolkit which will be useful for a variety of machine learning tasks in the future and is used by Google to solve massive machine learning problems on their clusters.\n",
    "\n",
    "The linear regression model forms the basis for a whole host of models - if you are comfortable with the fundamental approaches we take here, there will be a whole range of extensions, advances and applications available to you in the future."
   ]
  },
  {
   "cell_type": "markdown",
   "metadata": {},
   "source": [
    "## Marking and Submission\n",
    "\n",
    "This lab exercise is marked, and contributes 10% to your final grade. For this lab exercise there are 6 places where you are expected to enter your own code, for 15 marks overall. Every place you have to add code is indicated by\n",
    "\n",
    "`# Add your code here ..`\n",
    "\n",
    "`# ***********************************************************`\n",
    "\n",
    "with instructions above the code block.\n",
    "\n",
    "Please submit your completed workbook on 2021-11-19 20:00 GMT. The workbook you submit must be an `.ipynb` file, which is saved into the directory you're running Jupyter; alternatively you can download it from the menu above using `File -> Download As -> Notebook (.ipynb)`. Remember to save your work regularly (Save and checkpoint in the File menu, the icon of a floppy disk, or Ctrl-S); the version you submit should have all code blocks showing the results (if any) of execution below them. You will normally receive feedback within a week.\n",
    "\n",
    "## IMPORTANT!\n",
    "\n",
    "- Please make sure your notebook runs all the way through without errors with the cells executed in the correct order before saving and submitting. This can be performed by selecting 'Restart & Run All' from the 'Kernel' menu at the top.\n",
    "- All answers should be provide within functions with specific names and arguments.\n",
    "- **Please do not change the names or signatures of the functions that you write your answers inside!** This will break the script we use for marking.\n",
    "- **Please do not move cells around or copy and paste the notebook into another notebook!** Again, this will break the marking script."
   ]
  },
  {
   "cell_type": "code",
   "execution_count": 1,
   "metadata": {},
   "outputs": [],
   "source": [
    "%matplotlib inline\n",
    "import numpy as np\n",
    "\n",
    "import tensorflow.compat.v1 as tf\n",
    "\n",
    "from sklearn import datasets as ds\n",
    "\n",
    "import matplotlib.pyplot as plt"
   ]
  },
  {
   "cell_type": "code",
   "execution_count": 2,
   "metadata": {},
   "outputs": [
    {
     "name": "stderr",
     "output_type": "stream",
     "text": [
      "C:\\Users\\fqq\\anaconda3\\envs\\tf\\lib\\site-packages\\sklearn\\utils\\deprecation.py:87: FutureWarning: Function load_boston is deprecated; `load_boston` is deprecated in 1.0 and will be removed in 1.2.\n",
      "\n",
      "    The Boston housing prices dataset has an ethical problem. You can refer to\n",
      "    the documentation of this function for further details.\n",
      "\n",
      "    The scikit-learn maintainers therefore strongly discourage the use of this\n",
      "    dataset unless the purpose of the code is to study and educate about\n",
      "    ethical issues in data science and machine learning.\n",
      "\n",
      "    In this special case, you can fetch the dataset from the original\n",
      "    source::\n",
      "\n",
      "        import pandas as pd\n",
      "        import numpy as np\n",
      "\n",
      "\n",
      "        data_url = \"http://lib.stat.cmu.edu/datasets/boston\"\n",
      "        raw_df = pd.read_csv(data_url, sep=\"\\s+\", skiprows=22, header=None)\n",
      "        data = np.hstack([raw_df.values[::2, :], raw_df.values[1::2, :2]])\n",
      "        target = raw_df.values[1::2, 2]\n",
      "\n",
      "    Alternative datasets include the California housing dataset (i.e.\n",
      "    :func:`~sklearn.datasets.fetch_california_housing`) and the Ames housing\n",
      "    dataset. You can load the datasets as follows::\n",
      "\n",
      "        from sklearn.datasets import fetch_california_housing\n",
      "        housing = fetch_california_housing()\n",
      "\n",
      "    for the California housing dataset and::\n",
      "\n",
      "        from sklearn.datasets import fetch_openml\n",
      "        housing = fetch_openml(name=\"house_prices\", as_frame=True)\n",
      "\n",
      "    for the Ames housing dataset.\n",
      "    \n",
      "  warnings.warn(msg, category=FutureWarning)\n"
     ]
    }
   ],
   "source": [
    "boston = ds.load_boston()\n",
    "\n",
    "x_raw = boston.data[:,np.argwhere(boston.feature_names == 'RM')[0,0]]\n",
    "y_raw = boston.target"
   ]
  },
  {
   "cell_type": "markdown",
   "metadata": {},
   "source": [
    "## Boston House Prices Dataset\n",
    "A descroption of the dataset used is provided here.\n",
    "\n",
    "Data Set Characteristics:  \n",
    "    :Number of Instances: 506 \n",
    "\n",
    "    :Number of Attributes: 13 numeric/categorical predictive\n",
    "    \n",
    "    :Median Value (attribute 14) is usually the target\n",
    "\n",
    "    :Attribute Information (in order):\n",
    "        - CRIM     per capita crime rate by town\n",
    "        - ZN       proportion of residential land zoned for lots over 25,000 sq.ft.\n",
    "        - INDUS    proportion of non-retail business acres per town\n",
    "        - CHAS     Charles River dummy variable (= 1 if tract bounds river; 0 otherwise)\n",
    "        - NOX      nitric oxides concentration (parts per 10 million)\n",
    "        - RM       average number of rooms per dwelling\n",
    "        - AGE      proportion of owner-occupied units built prior to 1940\n",
    "        - DIS      weighted distances to five Boston employment centres\n",
    "        - RAD      index of accessibility to radial highways\n",
    "        - TAX      full-value property-tax rate per $10,000\n",
    "        - PTRATIO  pupil-teacher ratio by town\n",
    "        - B        1000(Bk - 0.63)^2 where Bk is the proportion of blacks by town\n",
    "        - LSTAT    % lower status of the population\n",
    "        - MEDV     Median value of owner-occupied homes in $1000's\n",
    "\n",
    "    :Missing Attribute Values: None\n",
    "\n",
    "    :Creator: Harrison, D. and Rubinfeld, D.L.\n",
    "\n",
    "This is a copy of UCI ML housing dataset.\n",
    "http://archive.ics.uci.edu/ml/datasets/Housing\n",
    "\n",
    "\n",
    "This dataset was taken from the StatLib library which is maintained at Carnegie Mellon University.\n",
    "\n",
    "The Boston house-price data of Harrison, D. and Rubinfeld, D.L. 'Hedonic\n",
    "prices and the demand for clean air', J. Environ. Economics & Management,\n",
    "vol.5, 81-102, 1978.   Used in Belsley, Kuh & Welsch, 'Regression diagnostics\n",
    "...', Wiley, 1980.   N.B. Various transformations are used in the table on\n",
    "pages 244-261 of the latter.\n",
    "\n",
    "The Boston house-price data has been used in many machine learning papers that address regression\n",
    "problems.   \n",
    "     \n",
    "### References\n",
    "\n",
    "   - Belsley, Kuh & Welsch, 'Regression diagnostics: Identifying Influential Data and Sources of Collinearity', Wiley, 1980. 244-261.\n",
    "   - Quinlan,R. (1993). Combining Instance-Based and Model-Based Learning. In Proceedings on the Tenth International Conference of Machine Learning, 236-243, University of Massachusetts, Amherst. Morgan Kaufmann.\n",
    "   - many more! (see http://archive.ics.uci.edu/ml/datasets/Housing)"
   ]
  },
  {
   "cell_type": "markdown",
   "metadata": {},
   "source": [
    "## Preparing the data\n",
    "\n",
    "We are going to look at the relationship between the \"average number of rooms per dwelling\" and median house price in the Boston dataset. First let us partition the data into a training and test split. We are going for 60% training and 40% testing."
   ]
  },
  {
   "cell_type": "code",
   "execution_count": 3,
   "metadata": {},
   "outputs": [
    {
     "name": "stdout",
     "output_type": "stream",
     "text": [
      "Training set size: 303\n",
      "Test set size: 203\n"
     ]
    }
   ],
   "source": [
    "total_count = x_raw.shape[0]\n",
    "\n",
    "split = int(total_count * 0.6)\n",
    "\n",
    "# Shuffle the data to avoid ordering bias\n",
    "np.random.seed(0)\n",
    "shuffle = np.random.permutation(total_count)\n",
    "\n",
    "x = x_raw[shuffle]\n",
    "y = y_raw[shuffle]\n",
    "\n",
    "x_train_unnormalised = x[:split]\n",
    "y_train_unnormalised = y[:split]\n",
    "\n",
    "x_test_unnormalised = x[split:]\n",
    "y_test_unnormalised = y[split:]\n",
    "\n",
    "print('Training set size:', x_train_unnormalised.shape[0])\n",
    "print('Test set size:', x_test_unnormalised.shape[0])"
   ]
  },
  {
   "cell_type": "markdown",
   "metadata": {},
   "source": [
    "## Data Visualisation\n",
    "\n",
    "To allow for easy visualisation as you progress through the task we are using a single dimensional data set. Both the input $x$ and output $y$ are scalars so we can plot them on a standard scatter plot."
   ]
  },
  {
   "cell_type": "code",
   "execution_count": 4,
   "metadata": {},
   "outputs": [
    {
     "data": {
      "text/plain": [
       "Text(0.5, 1.0, 'Plot of the Training Data')"
      ]
     },
     "execution_count": 4,
     "metadata": {},
     "output_type": "execute_result"
    },
    {
     "data": {
      "image/png": "[encoded data removed]",
      "text/plain": [
       "<Figure size 720x576 with 1 Axes>"
      ]
     },
     "metadata": {
      "needs_background": "light"
     },
     "output_type": "display_data"
    }
   ],
   "source": [
    "def plot_data(x, y):\n",
    "    plt.figure(figsize=[10,8])\n",
    "    plt.plot(x, y, 'b+')\n",
    "    plt.grid(True)\n",
    "    plt.xlabel('Average number rooms per dwelling')\n",
    "    plt.ylabel('Mean value of home')\n",
    "\n",
    "plot_data(x_train_unnormalised, y_train_unnormalised)\n",
    "plt.title('Plot of the Training Data')"
   ]
  },
  {
   "cell_type": "markdown",
   "metadata": {},
   "source": [
    "### Question 1 (2 marks):\n",
    "\n",
    "Write a function that normalises a vector of values. It should output a corresponding vector where the values have a mean of zero and a standard deviation of 1. Note that you should only perform an affine transformation of the data (i.e. a linear scaling and a fixed offset). This means that you must find $a$ and $b$ for $u_i = a \\, v_i + b$ where $\\{u_i\\}$ are the input data and $\\{v_i\\}$ are the normalised output data.\n",
    "\n",
    "Your function should return the normalising constants as well as the normalised data.\n",
    "\n",
    "Write a second function that removes the normalisation and returns the data to its original values.\n",
    "\n",
    "Check that passing both `x_train` and `y_train` through both functions returns the vectors to their original values.\n",
    "\n",
    "*Hints:*\n",
    "- You might want to look at `np.all()` for the Boolean check that they return to their values.\n",
    "- When checking that floating point values are equal up to nummerical precision (e.g. rounding errors in the computations) you can use the `np.isclose()` function.\n",
    "- You can use the `assert()` command to guarantee that a statement is `True` before the program continues.\n",
    "\n",
    "*Points to consider:* \n",
    "- Why might it be sensible to normalise the data in the fashion described?\n",
    "- Considering that we are about to perform Linear Regression, why might we not want to perform a more involved normalisation process?"
   ]
  },
  {
   "cell_type": "code",
   "execution_count": 5,
   "metadata": {},
   "outputs": [
    {
     "name": "stdout",
     "output_type": "stream",
     "text": [
      "Passes checking function :)\n"
     ]
    },
    {
     "data": {
      "image/png": "[encoded data removed]",
      "text/plain": [
       "<Figure size 720x576 with 1 Axes>"
      ]
     },
     "metadata": {
      "needs_background": "light"
     },
     "output_type": "display_data"
    }
   ],
   "source": [
    "def normalise_data(x_unnormalised):\n",
    "    b=np.mean(x_unnormalised)\n",
    "    a=np.std(x_unnormalised)\n",
    "    x_normalised=(x_unnormalised-b)/a\n",
    "    \n",
    "    return x_normalised, a, b\n",
    "\n",
    "def unnormalise_data(x_normalised, a, b):\n",
    "    x_unnormalised=a*x_normalised+b\n",
    "    \n",
    "    return x_unnormalised\n",
    "\n",
    "try:\n",
    "    x_train, x_norm_a, x_norm_b = normalise_data(x_train_unnormalised)\n",
    "    y_train, y_norm_a, y_norm_b = normalise_data(y_train_unnormalised)\n",
    "\n",
    "    x_test, _, _ = normalise_data(x_test_unnormalised)\n",
    "    y_test, _, _ = normalise_data(y_test_unnormalised)\n",
    "except Exception as err:\n",
    "    print('Error during normalisation functions:', err)\n",
    "\n",
    "def checking_function(normalise_data, unnormalise_data, data_to_check):\n",
    "    passes_check = False\n",
    "    \n",
    "    est_normalised_data, est_a, est_b = normalise_data(data_to_check)\n",
    "    est_unnormalised_data = unnormalise_data(est_normalised_data, est_a, est_b)\n",
    "    \n",
    "    if est_unnormalised_data.all()==data_to_check.all():\n",
    "        passes_check=True\n",
    "\n",
    "    return passes_check\n",
    "\n",
    "try:\n",
    "    if (checking_function(normalise_data, unnormalise_data, x_train_unnormalised) == True) and \\\n",
    "       (checking_function(normalise_data, unnormalise_data, y_train_unnormalised) == True):\n",
    "        print('Passes checking function :)')\n",
    "    else:\n",
    "        print('Failed to pass the checking function :(')\n",
    "except Exception as err:\n",
    "    print('Error during checking function:', err)\n",
    "    \n",
    "try:\n",
    "    plot_data(x_train, y_train)\n",
    "    plt.title('Plot of the (Normalised) Training Data')\n",
    "except Exception as err:\n",
    "    print('Error during ploting functions:', err)"
   ]
  },
  {
   "cell_type": "markdown",
   "metadata": {},
   "source": [
    "## The Linear Regression Model\n",
    "\n",
    "In linear regression we are trying to fit a linear model to the data of the form\n",
    "\n",
    "\\begin{align}\n",
    "y &= w x + c\n",
    "\\end{align}\n",
    "\n",
    "where $w$ and $c$ are parameters to be learned that take the input data $x$ to the output data $y$. Once this model has been learned, we can use the parameters to predict the values of the output that would correspond to new values of the input.\n",
    "\n",
    "In order to determine the parameters, we need an objective function that we seek to optimise: this function returns a scalar value for all possible parameter values and we seek to change the parameters until the best scalar value is obtained.\n",
    "\n",
    "For linear regression, we usually take the objective as one which minimises the squared error; this is known as a linear least squares problem.\n",
    "\n",
    "*Aside: Think about what this means in terms of a model for the data when you have $y = f(x) + \\eta$ with $f(x)$ as a linear function $f(x) = w x + c$ and $\\eta$ as iid Gaussian noise.*\n",
    "\n",
    "Therefore our objective is given by the sum of squared differences between the true value of $y_i$ and the value estimated by our model $w x_i + c$.\n",
    "\n",
    "\\begin{align}\n",
    "E(w,c) &= \\sum_{i=0}^{N-1} \\big(y_i - f(x_i) \\big)^2 \\\\\n",
    "    &= \\sum_{i=0}^{N-1} \\big(y_i - (w x_i + c) \\big)^2 \\\\\n",
    "    &= \\sum_{i=0}^{N-1} \\big(y_i - w x_i - c \\big)^2\n",
    "\\end{align}\n",
    "\n"
   ]
  },
  {
   "cell_type": "markdown",
   "metadata": {},
   "source": [
    "## Question 2 (1 mark)\n",
    "\n",
    "Write a function that calculates the least squared error on the training data for a particular value of the parameters $w$ and $c$."
   ]
  },
  {
   "cell_type": "code",
   "execution_count": 6,
   "metadata": {},
   "outputs": [
    {
     "name": "stdout",
     "output_type": "stream",
     "text": [
      "Squared error for w = 1.5, c = 0.5 is  450.52041703162615\n"
     ]
    }
   ],
   "source": [
    "def least_squares_error(x, y, w, c):\n",
    "    squared_error=sum((y-w*x-c)**2)        \n",
    "\n",
    "    \n",
    "    return squared_error\n",
    "\n",
    "try:\n",
    "    print('Squared error for w = 1.5, c = 0.5 is ', \n",
    "          least_squares_error(x_train, y_train, w=1.5, c=0.5))\n",
    "except Exception as err:\n",
    "    print('Error during least squares calculation:', err)"
   ]
  },
  {
   "cell_type": "markdown",
   "metadata": {},
   "source": [
    "## Analytic Solution\n",
    "\n",
    "In the case of linear regression, we can find an analytic solution to this problem by finding stationary point of the objective function. We do this by evaluating the partial derivatives of the objective wrt each parameter in turn and setting them to zero. If we can then find a solution to these simultaneous equations, we have found an optimal setting for the parameters.\n",
    "\n",
    "For $w$ we have:\n",
    "\n",
    "\\begin{align}\n",
    "\\frac{\\partial E}{\\partial w} \n",
    "    &= \\frac{\\partial}{\\partial w}\\sum_{i=0}^{N-1} \\big(y_i - w x_i - c \\big)^2 \\\\\n",
    "    &= \\sum_{i=0}^{N-1} \\frac{\\partial}{\\partial w} \\big(y_i - w x_i - c \\big)^2 \\\\\n",
    "    &= \\sum_{i=0}^{N-1} 2 \\big(y_i - w x_i - c \\big) \\frac{\\partial}{\\partial w} \\big(y_i - w x_i - c \\big) \\\\\n",
    "    &= \\sum_{i=0}^{N-1} 2 \\big(y_i - w x_i - c \\big) \\big(- x_i \\big) \\\\\n",
    "    &= \\sum_{i=0}^{N-1} 2 x_i (w x_i + c - y_i) \\\\\n",
    "\\end{align}\n",
    "\n",
    "For $c$ we have:\n",
    "\n",
    "\\begin{align}\n",
    "\\frac{\\partial E}{\\partial c} \n",
    "    &= \\frac{\\partial}{\\partial c}\\sum_{i=0}^{N-1} \\big(y_i - w x_i - c \\big)^2 \\\\\n",
    "    &= \\sum_{i=0}^{N-1} \\frac{\\partial}{\\partial c} \\big(y_i - w x_i - c \\big)^2 \\\\\n",
    "    &= \\sum_{i=0}^{N-1} 2 \\big(y_i - w x_i - c \\big) \\frac{\\partial}{\\partial c} \\big(y_i - w x_i - c \\big) \\\\\n",
    "    &= \\sum_{i=0}^{N-1} 2 \\big(y_i - w x_i - c \\big) \\big(- 1 \\big) \\\\\n",
    "    &= \\sum_{i=0}^{N-1} 2 (w x_i + c - y_i) \\\\\n",
    "\\end{align}\n",
    "\n",
    "Now setting $\\frac{\\partial E}{\\partial w} = 0$:\n",
    "\n",
    "\\begin{align}\n",
    "\\Rightarrow \\sum_{i=0}^{N-1} x_i (w x_i + c - y_i) &= 0 \\\\\n",
    "w \\sum_{i=0}^{N-1} (x_i)^2 + c \\sum_{i=0}^{N-1} (x_i) - \\sum_{i=0}^{N-1} (x_i y_i) &= 0 \\\\\n",
    "\\Rightarrow A w + B c - C &= 0 \\qquad\\text{(1)}\n",
    "\\end{align}\n",
    "\n",
    "with $A = \\sum_{i=0}^{N-1} (x_i)^2$, $B = \\sum_{i=0}^{N-1} (x_i)$ and $C = \\sum_{i=0}^{N-1} (x_i y_i)$.\n",
    "\n",
    "Now setting $\\frac{\\partial E}{\\partial c} = 0$:\n",
    "\n",
    "\\begin{align}\n",
    "\\Rightarrow \\sum_{i=0}^{N-1} (w x_i + c - y_i) &= 0 \\\\\n",
    "w \\sum_{i=0}^{N-1} (x_i) + N c - \\sum_{i=0}^{N-1} (y_i) &= 0 \\\\\n",
    "\\Rightarrow B w + N c - D &= 0 \\qquad\\text{(2)}\n",
    "\\end{align}\n",
    "\n",
    "with $D = \\sum_{i=0}^{N-1} (y_i)$.\n",
    "\n",
    "Equations (1) and (2) can be combined to solve for the optimal values for $w$ and $c$! <p style=\"color:red\">**You will need to finish the final part of the maths to write the function required in question 3.**</p>"
   ]
  },
  {
   "cell_type": "markdown",
   "metadata": {},
   "source": [
    "## Question 3 (3 marks)\n",
    "\n",
    "Write a function using numpy that takes as input `x_train` and `y_train` and outputs the optimal $w$ and $c$ parameters for least squares linear regression.\n",
    "\n",
    "Confirm that your results are reasonable by plotting the resulting linear function on the training graph as well as the predicted values for the test set on a separate graph.\n",
    "\n",
    "- 2 marks for the correct solution for $w$ and $c$\n",
    "- 1 mark for the plots"
   ]
  },
  {
   "cell_type": "code",
   "execution_count": 7,
   "metadata": {},
   "outputs": [
    {
     "name": "stdout",
     "output_type": "stream",
     "text": [
      "Analytic solution:\n",
      "Analytic w =  0.671044645729784\n",
      "Analytic c =  1.2176694982431066e-15\n"
     ]
    },
    {
     "data": {
      "image/png": "[encoded data removed]",
      "text/plain": [
       "<Figure size 720x576 with 1 Axes>"
      ]
     },
     "metadata": {
      "needs_background": "light"
     },
     "output_type": "display_data"
    },
    {
     "name": "stdout",
     "output_type": "stream",
     "text": [
      "Mean least squares error on TRAINING data =  0.5496990834373899\n"
     ]
    },
    {
     "data": {
      "image/png": "[encoded data removed]",
      "text/plain": [
       "<Figure size 720x576 with 1 Axes>"
      ]
     },
     "metadata": {
      "needs_background": "light"
     },
     "output_type": "display_data"
    },
    {
     "name": "stdout",
     "output_type": "stream",
     "text": [
      "Mean least squares error on TEST data =  0.4774461155374339\n"
     ]
    }
   ],
   "source": [
    "def least_squares_analytic_solution(x, y):\n",
    "    A=sum(x**2);B=sum(x);C=sum(x*y);D=sum(y)\n",
    "    c=(B*C-A*D)/(B*2-A*len(x))\n",
    "    w=(C-B*c)/A\n",
    "    \n",
    "    return w, c\n",
    "\n",
    "\n",
    "try:\n",
    "    w_opt, c_opt = least_squares_analytic_solution(x_train, y_train)\n",
    "    \n",
    "    print('Analytic solution:')\n",
    "    print('Analytic w = ', w_opt)\n",
    "    print('Analytic c = ', c_opt)\n",
    "    \n",
    "except Exception as err:\n",
    "    print('Error during least squares analytic solution:', err)\n",
    "\n",
    "    \n",
    "def plot_estimated_y_for_input_x(w, c):\n",
    "    x=np.linspace(-5,5,10)\n",
    "    y=w*x+c\n",
    "    plt.xlabel('Average number rooms per dwelling')\n",
    "    plt.ylabel('Mean value of home')\n",
    "    plt.plot(x,y,label='Predicted')\n",
    "    plt.legend()\n",
    "    plt.show()\n",
    "    pass\n",
    "    \n",
    "    \n",
    "\n",
    "try:\n",
    "    plot_data(x_train, y_train)\n",
    "    plt.title('Analytic Linear Regression (Training Data)')\n",
    "    plot_estimated_y_for_input_x(w_opt, c_opt)\n",
    "    \n",
    "    print('Mean least squares error on TRAINING data = ',\n",
    "          least_squares_error(x_train, y_train, w_opt, c_opt) / x_train.shape[0])\n",
    "\n",
    "    plot_data(x_test, y_test)\n",
    "    plt.title('Analytic Linear Regression (Testing Data)')\n",
    "    plot_estimated_y_for_input_x(w_opt, c_opt)\n",
    "    \n",
    "    print('Mean least squares error on TEST data = ',\n",
    "          least_squares_error(x_test, y_test, w_opt, c_opt) / x_test.shape[0])\n",
    "    \n",
    "except Exception as err:\n",
    "    print('Error during plotting:', err)"
   ]
  },
  {
   "cell_type": "markdown",
   "metadata": {},
   "source": [
    "## Tensorflow Optimisation\n",
    "\n",
    "**For help with this please refer to the separate tensorflow example that was worked through in class and is available on moodle as a separate jupyter notebook. Please load the example notebook and run through it yourself again before continuing with this task.**\n",
    "\n",
    "In the previous question we looked at an analytic solution to the least square problem. We now pretend that we could not solve the problem analytically. Although this is not true for this case, the additional of extensions to the linear regression model (for example to improve robustness, adding feature selection or handling non-linear data) can mean that it is no longer possible to find an analytic solution and numerical optimisation must be used."
   ]
  },
  {
   "cell_type": "markdown",
   "metadata": {},
   "source": [
    "## Question 4 (2 marks)\n",
    "\n",
    "Add the tensorflow expressions to the following code to calculate the least squares error using tensorflow and check that it calculates the same value as the numpy version.\n"
   ]
  },
  {
   "cell_type": "code",
   "execution_count": 8,
   "metadata": {},
   "outputs": [
    {
     "name": "stdout",
     "output_type": "stream",
     "text": [
      "Tensorflow least squares error =  450.52041703162615\n",
      "numpy least squares error =  450.52041703162615\n"
     ]
    }
   ],
   "source": [
    "tf.reset_default_graph()\n",
    "# tf.compat.v1.disable_eager_execution()\n",
    "# tf.enable_eager_execution()\n",
    "\n",
    "try:\n",
    "    t_x_train = tf.constant(x_train, name='x_train')\n",
    "    t_y_train = tf.constant(y_train, name='y_train')\n",
    "except Exception as err:\n",
    "    print('Error defining training data:', err)\n",
    "    \n",
    "# Initial values\n",
    "w_initial_guess = 1.5\n",
    "c_initial_guess = 0.5\n",
    "\n",
    "t_w = tf.Variable(w_initial_guess, \n",
    "                  dtype=tf.float64, \n",
    "                  name='w')\n",
    "t_c = tf.Variable(c_initial_guess, \n",
    "                  dtype=tf.float64, \n",
    "                  name='c')\n",
    "\n",
    "# print(type(t_c))\n",
    "# print(type([1,2,1]-t_c))\n",
    "\n",
    "def calculate_tf_least_squares_error(t_x_train, t_y_train, t_w, t_c):\n",
    "    t_least_squares_error=tf.reduce_sum((t_y_train-(t_w*t_x_train+t_c))**2)\n",
    "    return t_least_squares_error\n",
    "\n",
    "\n",
    "try:\n",
    "    tensorflow_result = calculate_tf_least_squares_error(t_x_train, t_y_train, t_w, t_c)\n",
    "except Exception as err:\n",
    "    print('Error declaration of calculate_tf_least_squares_error():', err)\n",
    "    \n",
    "try:\n",
    "    numpy_result = least_squares_error(x_train, y_train, \n",
    "                                       w=w_initial_guess, \n",
    "                                       c=c_initial_guess)\n",
    "    \n",
    "    print('Tensorflow least squares error = ', tensorflow_result.numpy())\n",
    "    print('numpy least squares error = ', numpy_result)    \n",
    "    \n",
    "    assert(np.isclose(tensorflow_result, numpy_result))\n",
    "except Exception as err:\n",
    "    print('Error during optimisation with calculate_tf_least_squares_error():', err)"
   ]
  },
  {
   "cell_type": "markdown",
   "metadata": {},
   "source": [
    "## Question 5 (2 marks)\n",
    "\n",
    "Check that the gradients from tensorflow are correct by writing numpy code to calculate the value of the derivatives from the analytic expressions (derived previously):\n",
    "\n",
    "\\begin{align}\n",
    "\\frac{\\partial E}{\\partial w} \n",
    "    &= \\sum_{i=0}^{N-1} 2 x_i (w x_i + c - y_i) \\\\\n",
    "\\end{align}\n",
    "\n",
    "\\begin{align}\n",
    "\\frac{\\partial E}{\\partial c} \n",
    "    &= \\sum_{i=0}^{N-1} 2 (w x_i + c - y_i) \\\\\n",
    "\\end{align}"
   ]
  },
  {
   "cell_type": "code",
   "execution_count": 9,
   "metadata": {},
   "outputs": [
    {
     "name": "stdout",
     "output_type": "stream",
     "text": [
      "Tensorflow gradient wrt w =  502.34694468775075\n",
      "Tensorflow gradient wrt c =  302.9999999999985\n",
      "Analytic gradient wrt w =  502.3469446877503\n",
      "Analytic gradient wrt c =  302.9999999999985\n"
     ]
    }
   ],
   "source": [
    "tf.reset_default_graph()\n",
    "\n",
    "try:\n",
    "    t_x_train = tf.constant(x_train, name='x_train')\n",
    "    t_y_train = tf.constant(y_train, name='y_train')\n",
    "except Exception as err:\n",
    "    print('Error defining training data:', err)\n",
    "    \n",
    "w_initial_guess = 1.5\n",
    "c_initial_guess = 0.5\n",
    "\n",
    "t_w = tf.Variable(w_initial_guess, \n",
    "                  dtype=tf.float64, \n",
    "                  name='w')\n",
    "t_c = tf.Variable(c_initial_guess, \n",
    "                  dtype=tf.float64, \n",
    "                  name='c')\n",
    "\n",
    "try:\n",
    "    with tf.GradientTape() as tape:\n",
    "        loss = calculate_tf_least_squares_error(t_x_train, t_y_train, t_w, t_c)\n",
    "\n",
    "    tf_grad_w,tf_grad_c = tape.gradient(loss, (t_w,t_c))\n",
    "\n",
    "    print('Tensorflow gradient wrt w = ', tf_grad_w.numpy())\n",
    "    print('Tensorflow gradient wrt c = ', tf_grad_c.numpy())\n",
    "    \n",
    "except Exception as err:\n",
    "    print('Error using calculate_tf_least_squares_error() to find gradients:', err)\n",
    "    \n",
    "\n",
    "def calc_gradients_for_least_squares(x, y, w, c):\n",
    "    grad_w=sum(2*x*(w*x+c-y))\n",
    "    grad_c=sum(2*(w*x+c-y))\n",
    "    \n",
    "    return grad_w, grad_c\n",
    "\n",
    "try:\n",
    "    numpy_grad_w, numpy_grad_c = calc_gradients_for_least_squares(x_train, \n",
    "                                                                  y_train, \n",
    "                                                                  w_initial_guess, \n",
    "                                                                  c_initial_guess)\n",
    "\n",
    "    print('Analytic gradient wrt w = ', numpy_grad_w)\n",
    "    print('Analytic gradient wrt c = ', numpy_grad_c)\n",
    "\n",
    "    assert(np.isclose(tf_grad_w, numpy_grad_w))\n",
    "    assert(np.isclose(tf_grad_c, numpy_grad_c))\n",
    "except Exception as err:\n",
    "    print('Error during calculation with calc_gradients_for_least_squares():', err)"
   ]
  },
  {
   "cell_type": "markdown",
   "metadata": {},
   "source": [
    "## Gradient Descent in Tensorflow\n",
    "\n",
    "If all has gone well, the gradients should be the same and you can use tensorflow to find the solution to the optimisation.\n",
    "\n",
    "**Run the following block of code to see the tensorflow optimisation running with your least square error function from above!**\n",
    "\n",
    "*Aside: Investigate what happens as you change the `learning_rate` parameter as well as the `num_iterations`. Can we guarantee that tensorflow will always return the same result as the analytic solution? What might be happening if not?*"
   ]
  },
  {
   "cell_type": "code",
   "execution_count": 10,
   "metadata": {},
   "outputs": [
    {
     "name": "stdout",
     "output_type": "stream",
     "text": [
      "iter    1, E(w,c) = 450.520\n",
      "iter    2, E(w,c) = 210.640\n",
      "iter    3, E(w,c) = 173.402\n",
      "iter    4, E(w,c) = 167.621\n",
      "iter    5, E(w,c) = 166.724\n",
      "iter    6, E(w,c) = 166.584\n",
      "iter    7, E(w,c) = 166.563\n",
      "iter    8, E(w,c) = 166.559\n",
      "iter    9, E(w,c) = 166.559\n",
      "iter   10, E(w,c) = 166.559\n",
      "iter   11, E(w,c) = 166.559\n",
      "iter   12, E(w,c) = 166.559\n",
      "iter   13, E(w,c) = 166.559\n",
      "iter   14, E(w,c) = 166.559\n",
      "iter   15, E(w,c) = 166.559\n",
      "iter   16, E(w,c) = 166.559\n",
      "iter   17, E(w,c) = 166.559\n",
      "iter   18, E(w,c) = 166.559\n",
      "iter   19, E(w,c) = 166.559\n",
      "iter   20, E(w,c) = 166.559\n",
      "iter   21, E(w,c) = 166.559\n",
      "iter   22, E(w,c) = 166.559\n",
      "iter   23, E(w,c) = 166.559\n",
      "iter   24, E(w,c) = 166.559\n",
      "iter   25, E(w,c) = 166.559\n",
      "iter   26, E(w,c) = 166.559\n",
      "iter   27, E(w,c) = 166.559\n",
      "iter   28, E(w,c) = 166.559\n",
      "iter   29, E(w,c) = 166.559\n",
      "iter   30, E(w,c) = 166.559\n",
      "iter   31, E(w,c) = 166.559\n",
      "iter   32, E(w,c) = 166.559\n",
      "iter   33, E(w,c) = 166.559\n",
      "iter   34, E(w,c) = 166.559\n",
      "iter   35, E(w,c) = 166.559\n",
      "iter   36, E(w,c) = 166.559\n",
      "iter   37, E(w,c) = 166.559\n",
      "iter   38, E(w,c) = 166.559\n",
      "iter   39, E(w,c) = 166.559\n",
      "iter   40, E(w,c) = 166.559\n",
      "\n",
      "After tensorflow optimisation:\n",
      "Tensorflow w =  0.6710446457297835\n",
      "Tensorflow c =  1.2304728056839652e-15\n",
      "\n",
      "Analytic solution:\n",
      "Analytic w =  0.671044645729784\n",
      "Analytic c =  1.2176694982431066e-15\n"
     ]
    }
   ],
   "source": [
    "tf.reset_default_graph()\n",
    "\n",
    "try:\n",
    "    t_x_train = tf.constant(x_train, name='x_train')\n",
    "    t_y_train = tf.constant(y_train, name='y_train')\n",
    "except Exception as err:\n",
    "    print('Error defining training data:', err)\n",
    "    \n",
    "w_initial_guess = 1.5\n",
    "c_initial_guess = 0.5\n",
    "\n",
    "t_w = tf.Variable(w_initial_guess, \n",
    "                  dtype=tf.float64, \n",
    "                  name='w')\n",
    "t_c = tf.Variable(c_initial_guess, \n",
    "                  dtype=tf.float64, \n",
    "                  name='c')\n",
    "\n",
    "try:\n",
    "    optimiser = tf.train.GradientDescentOptimizer(learning_rate=0.001) #0.001\n",
    "    \n",
    "    num_iterations = 40\n",
    "   \n",
    "    # Run iterations of gradient descent\n",
    "    for iteration in range(num_iterations):\n",
    "        \n",
    "        with tf.GradientTape() as tape:\n",
    "            loss = calculate_tf_least_squares_error(t_x_train, t_y_train, t_w, t_c)\n",
    "\n",
    "        tf_grad_w,tf_grad_c = tape.gradient(loss, (t_w,t_c))\n",
    "\n",
    "        optimiser.apply_gradients(zip((tf_grad_w,tf_grad_c),(t_w,t_c)))\n",
    "    \n",
    "        print('iter %4d, E(w,c) = %0.3f' % \n",
    "                  (iteration + 1, loss))\n",
    "\n",
    "    w_tf_opt = t_w.numpy()\n",
    "    c_tf_opt = t_c.numpy()\n",
    "\n",
    "    print('\\nAfter tensorflow optimisation:')\n",
    "    print('Tensorflow w = ', w_tf_opt)\n",
    "    print('Tensorflow c = ', c_tf_opt)\n",
    "    \n",
    "    print('\\nAnalytic solution:')\n",
    "    print('Analytic w = ', w_opt)\n",
    "    print('Analytic c = ', c_opt)\n",
    "    \n",
    "except Exception as err:\n",
    "    print('Error using calculate_tf_least_squares_error():', err)"
   ]
  },
  {
   "cell_type": "markdown",
   "metadata": {},
   "source": [
    "## Question 6 (5 marks)\n",
    "\n",
    "You are now going to implement your own version of gradient descent (the process that tensorflow is providing to perform optimisation). The good news is that you already have the numpy functions to calculate both the least squares error (`least_squares_error`) and the gradients wrt the parameters (`calc_gradients_for_least_squares`).\n",
    "\n",
    "Starting from the same initial values as tensorflow (`w_initial_guess`, `c_initial_guess`) write an iterative algorithm for gradient descent. At each iteration it should perform the following steps:\n",
    "\n",
    "- Evaluate and save the squared error for the current parameters\n",
    "- Calculate the gradients wrt w and c for the current parameters\n",
    "- Update the parameters for w and c my moving in the direction of the negative current proportional to the current step size\n",
    "\n",
    "**The code below should run with these three additions. Once they are working, move on to the following.**\n",
    "\n",
    "Under this algorithm, the squared error should decrease at each iteration. If it is not decreasing then either there is a bug in the code (!) or the step size is too large. Add a check that makes sure the squared error always decreases and if it fails to decrease, decrease the step size and run the iteration again.\n",
    "\n",
    "*Hint: you don't want to __accept__ a bad step - if a step is bad, reduce the step size and calculate the step again.*\n",
    "\n",
    "**Try running this code starting with `current_step_size = 0.1`.**\n",
    "\n",
    "You can improve your answer by checking to see if you should stop iterating. If the change in the squared error between successive iterations is very small then one of the following is true. Either the step size is too small (not changing the parameters sufficiently) or the values have converged to their optimal values. If you cannot find a step size that creates a deacrease in the squared error then you have probably converged and can stop performing iterations.\n",
    "\n",
    "*Hint: you can exit a `for` loop early with the `break` command.*\n",
    "\n",
    "**Try running this code starting with `num_iterations = 200`.**\n",
    "\n",
    "- 1 mark evaluating and tracking the squared error and gradients\n",
    "- 2 marks taking steps in the negative gradient direction proportional to the step size\n",
    "- 1 mark check for decreasing error and adjusting step size if necessary\n",
    "- 1 mark check for convergence and stop interating"
   ]
  },
  {
   "cell_type": "code",
   "execution_count": 11,
   "metadata": {},
   "outputs": [
    {
     "name": "stdout",
     "output_type": "stream",
     "text": [
      "iteration    0, E = 307.990617, w = 0.086019, c = -0.352869\n",
      "iteration    1, E = 237.001280, w = 1.083920, c = 0.249033\n",
      "iteration    2, E = 201.643860, w = 0.379663, c = -0.175752\n",
      "iteration    3, E = 184.033509, w = 0.876684, c = 0.124035\n",
      "iteration    4, E = 175.262380, w = 0.525917, c = -0.087536\n",
      "iteration    5, E = 170.893774, w = 0.773467, c = 0.061778\n",
      "iteration    6, E = 168.717917, w = 0.598761, c = -0.043599\n",
      "iteration    7, E = 167.634195, w = 0.722058, c = 0.030769\n",
      "iteration    8, E = 167.094430, w = 0.635043, c = -0.021715\n",
      "iteration    9, E = 166.825590, w = 0.696453, c = 0.015325\n",
      "iteration   10, E = 166.691691, w = 0.653113, c = -0.010816\n",
      "iteration   11, E = 166.625000, w = 0.683699, c = 0.007633\n",
      "iteration   12, E = 166.591783, w = 0.662114, c = -0.005387\n",
      "iteration   13, E = 166.575239, w = 0.677348, c = 0.003802\n",
      "iteration   14, E = 166.566999, w = 0.666596, c = -0.002683\n",
      "iteration   15, E = 166.562895, w = 0.674184, c = 0.001894\n",
      "iteration   16, E = 166.560851, w = 0.668829, c = -0.001336\n",
      "iteration   17, E = 166.559833, w = 0.672608, c = 0.000943\n",
      "iteration   18, E = 166.559325, w = 0.669941, c = -0.000666\n",
      "iteration   19, E = 166.559073, w = 0.671823, c = 0.000470\n",
      "iteration   20, E = 166.558947, w = 0.670495, c = -0.000332\n",
      "iteration   21, E = 166.558884, w = 0.671433, c = 0.000234\n",
      "iteration   22, E = 166.558853, w = 0.670771, c = -0.000165\n",
      "iteration   23, E = 166.558838, w = 0.671238, c = 0.000117\n",
      "iteration   24, E = 166.558830, w = 0.670908, c = -0.000082\n",
      "iteration   25, E = 166.558826, w = 0.671141, c = 0.000058\n",
      "iteration   26, E = 166.558824, w = 0.670977, c = -0.000041\n",
      "iteration   27, E = 166.558823, w = 0.671093, c = 0.000029\n",
      "iteration   28, E = 166.558823, w = 0.671011, c = -0.000020\n",
      "iteration   29, E = 166.558823, w = 0.671069, c = 0.000014\n",
      "iteration   30, E = 166.558822, w = 0.671028, c = -0.000010\n",
      "iteration   31, E = 166.558822, w = 0.671057, c = 0.000007\n",
      "iteration   32, E = 166.558822, w = 0.671036, c = -0.000005\n",
      "iteration   33, E = 166.558822, w = 0.671051, c = 0.000004\n",
      "iteration   34, E = 166.558822, w = 0.671040, c = -0.000003\n",
      "Converged!\n",
      "\n",
      "After gradient descent optimisation:\n",
      "Optimised w =  0.6710404668348408\n",
      "Optimised c =  -2.520579015064776e-06\n",
      "\n",
      "Analytic solution:\n",
      "Analytic w =  0.671044645729784\n",
      "Analytic c =  1.2176694982431066e-15\n"
     ]
    }
   ],
   "source": [
    "num_iterations = 200 #20\n",
    "converge_threshold = 1e-8\n",
    "\n",
    "w_current = w_initial_guess\n",
    "c_current = c_initial_guess\n",
    "\n",
    "try:\n",
    "    E_current = least_squares_error(x_train, y_train, w_current, c_current)\n",
    "except Exception as err:\n",
    "    print('Error defining training data:', err)\n",
    "\n",
    "current_step_size = 0.1\n",
    "\n",
    "\n",
    "\n",
    "def run_iteration(x_train, y_train, w_current, c_current, E_current, \n",
    "                  current_step_size, converge_threshold):\n",
    "    converged = False\n",
    "\n",
    "    grad_w, grad_c = calc_gradients_for_least_squares(x_train, y_train, w_current, c_current)\n",
    "\n",
    "    w_new = w_current-current_step_size*grad_w\n",
    "    c_new = c_current-current_step_size*grad_c\n",
    "    E_new = least_squares_error(x_train, y_train, w_new, c_new)\n",
    "\n",
    "\n",
    "    # Make sure error is decreasing for each iteration\n",
    "    while E_new > E_current:\n",
    "        current_step_size *=0.8                   # adjust step-size under current particular direction\n",
    "        w_new = w_current-current_step_size*grad_w\n",
    "        c_new = c_current-current_step_size*grad_c\n",
    "        E_new = least_squares_error(x_train, y_train, w_new, c_new)\n",
    "        \n",
    "    # print('decreasing_______________________________________________________')\n",
    "    \n",
    "    current_step_size = 0.1                       # reset step-size since next time we step towards a different direction\n",
    "        \n",
    "\n",
    "    # Check for convergence and terminate\n",
    "    if abs(E_new-E_current) < converge_threshold:                                       # we are doing approximation\n",
    "        converged = True\n",
    "    else:\n",
    "        converged = False\n",
    "        \n",
    "    w_current = w_new\n",
    "    c_current = c_new\n",
    "    E_current = E_new\n",
    "\n",
    "    return w_current, c_current, E_current, current_step_size, converged\n",
    "\n",
    "\n",
    "\n",
    "try:\n",
    "    for iteration in range(num_iterations):\n",
    "        w_current, c_current, E_current, current_step_size, converged = \\\n",
    "            run_iteration(x_train, y_train, w_current, c_current, E_current, \n",
    "                          current_step_size, converge_threshold)\n",
    "        \n",
    "        print('iteration %4d, E = %f, w = %f, c = %f' % \n",
    "              (iteration, E_current, w_current, c_current))\n",
    "        \n",
    "        if converged:\n",
    "            print('Converged!')\n",
    "            break\n",
    "        \n",
    "    print('\\nAfter gradient descent optimisation:')\n",
    "    print('Optimised w = ', w_current)\n",
    "    print('Optimised c = ', c_current)\n",
    "\n",
    "    print('\\nAnalytic solution:')\n",
    "    print('Analytic w = ', w_opt)\n",
    "    print('Analytic c = ', c_opt)\n",
    "    \n",
    "except Exception as err:\n",
    "        print('Error during run_iteration():', err)"
   ]
  }
 ],
 "metadata": {
  "hide_input": false,
  "kernelspec": {
   "display_name": "Python 3",
   "language": "python",
   "name": "python3"
  },
  "language_info": {
   "codemirror_mode": {
    "name": "ipython",
    "version": 3
   },
   "file_extension": ".py",
   "mimetype": "text/x-python",
   "name": "python",
   "nbconvert_exporter": "python",
   "pygments_lexer": "ipython3",
   "version": "3.8.8"
  }
 },
 "nbformat": 4,
 "nbformat_minor": 2
}
